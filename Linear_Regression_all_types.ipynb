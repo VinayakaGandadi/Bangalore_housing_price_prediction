{
  "nbformat": 4,
  "nbformat_minor": 0,
  "metadata": {
    "colab": {
      "provenance": [],
      "authorship_tag": "ABX9TyP2Sdn6qtKPf7cONa1tKL6U",
      "include_colab_link": true
    },
    "kernelspec": {
      "name": "python3",
      "display_name": "Python 3"
    },
    "language_info": {
      "name": "python"
    }
  },
  "cells": [
    {
      "cell_type": "markdown",
      "metadata": {
        "id": "view-in-github",
        "colab_type": "text"
      },
      "source": [
        "<a href=\"https://colab.research.google.com/github/VinayakaGandadi/Bangalore_housing_price_prediction/blob/developement/Linear_Regression_all_types.ipynb\" target=\"_parent\"><img src=\"https://colab.research.google.com/assets/colab-badge.svg\" alt=\"Open In Colab\"/></a>"
      ]
    },
    {
      "cell_type": "markdown",
      "source": [
        "# **Linear Regression**"
      ],
      "metadata": {
        "id": "Q61QXTLet8pi"
      }
    },
    {
      "cell_type": "code",
      "source": [
        "import numpy as np\n",
        "import matplotlib.pyplot as plt\n",
        "import seaborn as sns\n",
        "import pandas as pd\n",
        "X = 2 * np.random.rand(100, 1)\n",
        "y = 4 + 3 * X + np.random.randn(100, 1)"
      ],
      "metadata": {
        "id": "BHhheUC162Je"
      },
      "execution_count": null,
      "outputs": []
    },
    {
      "cell_type": "code",
      "source": [
        "plt.hist(X,bins=50)\n",
        "plt.hist(y,bins=50)"
      ],
      "metadata": {
        "colab": {
          "base_uri": "https://localhost:8080/",
          "height": 525
        },
        "id": "g912K8G7fURr",
        "outputId": "f9f14585-94e4-4f66-f5e9-03dd05c22c4b"
      },
      "execution_count": null,
      "outputs": [
        {
          "output_type": "execute_result",
          "data": {
            "text/plain": [
              "(array([1., 1., 1., 1., 1., 3., 1., 5., 2., 2., 1., 5., 0., 3., 5., 2., 2.,\n",
              "        1., 1., 2., 2., 3., 2., 4., 1., 5., 1., 1., 6., 4., 2., 2., 2., 3.,\n",
              "        8., 1., 2., 5., 1., 0., 2., 0., 1., 0., 0., 1., 0., 0., 0., 1.]),\n",
              " array([ 2.92821863,  3.10106975,  3.27392088,  3.446772  ,  3.61962312,\n",
              "         3.79247425,  3.96532537,  4.1381765 ,  4.31102762,  4.48387874,\n",
              "         4.65672987,  4.82958099,  5.00243212,  5.17528324,  5.34813437,\n",
              "         5.52098549,  5.69383661,  5.86668774,  6.03953886,  6.21238999,\n",
              "         6.38524111,  6.55809223,  6.73094336,  6.90379448,  7.07664561,\n",
              "         7.24949673,  7.42234785,  7.59519898,  7.7680501 ,  7.94090123,\n",
              "         8.11375235,  8.28660348,  8.4594546 ,  8.63230572,  8.80515685,\n",
              "         8.97800797,  9.1508591 ,  9.32371022,  9.49656134,  9.66941247,\n",
              "         9.84226359, 10.01511472, 10.18796584, 10.36081696, 10.53366809,\n",
              "        10.70651921, 10.87937034, 11.05222146, 11.22507259, 11.39792371,\n",
              "        11.57077483]),\n",
              " <a list of 50 Patch objects>)"
            ]
          },
          "metadata": {},
          "execution_count": 2
        },
        {
          "output_type": "display_data",
          "data": {
            "text/plain": [
              "<Figure size 432x288 with 1 Axes>"
            ],
            "image/png": "[encoded data removed]"
          },
          "metadata": {
            "needs_background": "light"
          }
        }
      ]
    },
    {
      "cell_type": "code",
      "source": [
        "plt.scatter(X,y)"
      ],
      "metadata": {
        "colab": {
          "base_uri": "https://localhost:8080/",
          "height": 286
        },
        "id": "01fSVcHkf905",
        "outputId": "afcbcf29-98db-4eac-fdec-17586888d272"
      },
      "execution_count": null,
      "outputs": [
        {
          "output_type": "execute_result",
          "data": {
            "text/plain": [
              "<matplotlib.collections.PathCollection at 0x7fbdd2aef510>"
            ]
          },
          "metadata": {},
          "execution_count": 3
        },
        {
          "output_type": "display_data",
          "data": {
            "text/plain": [
              "<Figure size 432x288 with 1 Axes>"
            ],
            "image/png": "[encoded data removed]"
          },
          "metadata": {
            "needs_background": "light"
          }
        }
      ]
    },
    {
      "cell_type": "markdown",
      "source": [
        "# Using normal Method"
      ],
      "metadata": {
        "id": "ZYBc08MkuNwe"
      }
    },
    {
      "cell_type": "code",
      "source": [
        "X_b = np.c_[np.ones((100, 1)), X] # add x0 = 1 to each instance \n",
        "theta_best = np.linalg.inv(X_b.T.dot(X_b)).dot(X_b.T).dot(y)\n",
        "theta_best"
      ],
      "metadata": {
        "colab": {
          "base_uri": "https://localhost:8080/"
        },
        "id": "ALa-uPszg0ry",
        "outputId": "c2af6dea-fc23-4ff2-88e2-0e7e454a6aa3"
      },
      "execution_count": null,
      "outputs": [
        {
          "output_type": "execute_result",
          "data": {
            "text/plain": [
              "array([[3.87101054],\n",
              "       [2.98552352]])"
            ]
          },
          "metadata": {},
          "execution_count": 4
        }
      ]
    },
    {
      "cell_type": "code",
      "source": [
        "X_new = np.array([[1], [2]])\n",
        "X_new_b = np.c_[np.ones((2, 1)), X_new] # add x0 = 1 to each instance >>> \n",
        "y_predict = X_new_b.dot(theta_best)\n",
        "y_predict"
      ],
      "metadata": {
        "colab": {
          "base_uri": "https://localhost:8080/"
        },
        "id": "BvKj5HO-iF7U",
        "outputId": "c8eb9c9d-a8e2-41a6-f5fa-fb25ce73b936"
      },
      "execution_count": null,
      "outputs": [
        {
          "output_type": "execute_result",
          "data": {
            "text/plain": [
              "array([[6.85653406],\n",
              "       [9.84205758]])"
            ]
          },
          "metadata": {},
          "execution_count": 5
        }
      ]
    },
    {
      "cell_type": "code",
      "source": [
        "plt.plot(X_new, y_predict, \"r--\") \n",
        "plt.plot(X, y, \"b.\") \n",
        "plt.axis([0, 2, 0, 15]) \n",
        "plt.show()"
      ],
      "metadata": {
        "colab": {
          "base_uri": "https://localhost:8080/",
          "height": 265
        },
        "id": "tthzN6Sjj-VV",
        "outputId": "2c8ca08e-2da6-46fb-b416-a8e08979a3c2"
      },
      "execution_count": null,
      "outputs": [
        {
          "output_type": "display_data",
          "data": {
            "text/plain": [
              "<Figure size 432x288 with 1 Axes>"
            ],
            "image/png": "[encoded data removed]"
          },
          "metadata": {
            "needs_background": "light"
          }
        }
      ]
    },
    {
      "cell_type": "markdown",
      "source": [
        "# Using Sklearn or SVD"
      ],
      "metadata": {
        "id": "QfX5G6q2uX-W"
      }
    },
    {
      "cell_type": "code",
      "source": [
        "from sklearn.linear_model import LinearRegression\n",
        "lin_reg = LinearRegression()\n",
        "lin_reg.fit(X, y)\n",
        "lin_reg.intercept_, lin_reg.coef_ \n",
        "lin_reg.predict(X_new)"
      ],
      "metadata": {
        "colab": {
          "base_uri": "https://localhost:8080/"
        },
        "id": "9hnuBIERk7La",
        "outputId": "fc5d712e-3cc1-4256-ae07-70b13ec5dd61"
      },
      "execution_count": null,
      "outputs": [
        {
          "output_type": "execute_result",
          "data": {
            "text/plain": [
              "array([[6.85653406],\n",
              "       [9.84205758]])"
            ]
          },
          "metadata": {},
          "execution_count": 7
        }
      ]
    },
    {
      "cell_type": "code",
      "source": [
        "theta_best_svd, residuals, rank, s = np.linalg.lstsq(X_b, y, rcond=1e-6)\n",
        "theta_best_svd, residuals, rank, s"
      ],
      "metadata": {
        "colab": {
          "base_uri": "https://localhost:8080/"
        },
        "id": "tXxX0GsxmN9a",
        "outputId": "ddf274ac-b905-42f5-be54-3dfd90d3182f"
      },
      "execution_count": null,
      "outputs": [
        {
          "output_type": "execute_result",
          "data": {
            "text/plain": [
              "(array([[3.87101054],\n",
              "        [2.98552352]]),\n",
              " array([113.14843709]),\n",
              " 2,\n",
              " array([14.80130964,  3.82742561]))"
            ]
          },
          "metadata": {},
          "execution_count": 8
        }
      ]
    },
    {
      "cell_type": "markdown",
      "source": [
        "# Using Batch Gradient Decent(Gradient Decent)"
      ],
      "metadata": {
        "id": "TxRYEIm4t6nb"
      }
    },
    {
      "cell_type": "code",
      "source": [
        "eta = 0.1 # learning rate \n",
        "n_iterations = 1000 \n",
        "m = 100\n",
        "theta = np.random.randn(2,1) # random initialization\n",
        "for iteration in range(n_iterations):\n",
        "   gradients = 2/m * X_b.T.dot(X_b.dot(theta) - y) \n",
        "   theta= theta- eta * gradients\n",
        "theta "
      ],
      "metadata": {
        "colab": {
          "base_uri": "https://localhost:8080/"
        },
        "id": "1DJN1LlRuwkN",
        "outputId": "36372c39-0271-436f-98fb-68c41b89b875"
      },
      "execution_count": null,
      "outputs": [
        {
          "output_type": "execute_result",
          "data": {
            "text/plain": [
              "array([[3.87101054],\n",
              "       [2.98552352]])"
            ]
          },
          "metadata": {},
          "execution_count": 9
        }
      ]
    },
    {
      "cell_type": "markdown",
      "source": [
        "# Using Stochastic Gradient Decent"
      ],
      "metadata": {
        "id": "67BqwEndyV23"
      }
    },
    {
      "cell_type": "code",
      "source": [
        "n_epochs = 50 \n",
        "t0, t1 = 5, 50 # learning schedule hyperparameters\n",
        "def learning_schedule(t): return t0 / (t + t1)\n",
        "theta = np.random.randn(2,1) # random initialization\n",
        "for epoch in range(n_epochs): #number of iterations\n",
        "  for i in range(m): \n",
        "    random_index = np.random.randint(m) \n",
        "    xi = X_b[random_index:random_index+1] \n",
        "    yi = y[random_index:random_index+1] \n",
        "    gradients = 2 * xi.T.dot(xi.dot(theta) - yi) \n",
        "    eta = learning_schedule(epoch * m + i) \n",
        "    theta = theta - eta * gradients\n",
        "theta"
      ],
      "metadata": {
        "colab": {
          "base_uri": "https://localhost:8080/"
        },
        "id": "qQ5ed05Zv3C0",
        "outputId": "e82fc561-790e-45c8-e14e-a605dde29a77"
      },
      "execution_count": null,
      "outputs": [
        {
          "output_type": "execute_result",
          "data": {
            "text/plain": [
              "array([[3.87104569],\n",
              "       [3.02374265]])"
            ]
          },
          "metadata": {},
          "execution_count": 10
        }
      ]
    },
    {
      "cell_type": "markdown",
      "source": [
        "SGD Using sklearn "
      ],
      "metadata": {
        "id": "S32XziD_3Hkz"
      }
    },
    {
      "cell_type": "code",
      "source": [
        "from sklearn.linear_model import SGDRegressor \n",
        "sgd_reg = SGDRegressor(max_iter=1000, tol=1e-3, penalty=None, eta0=0.1) \n",
        "sgd_reg.fit(X, y.ravel())\n",
        "sgd_reg.intercept_, sgd_reg.coef_"
      ],
      "metadata": {
        "colab": {
          "base_uri": "https://localhost:8080/"
        },
        "id": "l1uuiaAY15BN",
        "outputId": "3fe7a90e-26b2-4f1c-920a-6aed690900e3"
      },
      "execution_count": null,
      "outputs": [
        {
          "output_type": "execute_result",
          "data": {
            "text/plain": [
              "(array([3.88957753]), array([3.07603613]))"
            ]
          },
          "metadata": {},
          "execution_count": 11
        }
      ]
    },
    {
      "cell_type": "markdown",
      "source": [
        "# Mini batch Gradient Decent"
      ],
      "metadata": {
        "id": "ylU-RwHt4ewD"
      }
    },
    {
      "cell_type": "code",
      "source": [
        "#at each step, instead of computing the gradients based on the full training set (as in Batch GD) or \n",
        "#based on just one instance (as in Stochastic GD), Mini-batch GD computes\n",
        "# the gradients on small random sets of instances called mini-batches"
      ],
      "metadata": {
        "id": "ufjio_u63a8i"
      },
      "execution_count": null,
      "outputs": []
    },
    {
      "cell_type": "markdown",
      "source": [
        "# Polynomial Regression"
      ],
      "metadata": {
        "id": "YyMcYL4xZXdv"
      }
    },
    {
      "cell_type": "code",
      "source": [
        "m = 100 \n",
        "X = 6 * np.random.rand(m, 1) - 3 \n",
        "y = 0.5 * X**2 + X + 2 + np.random.randn(m, 1)\n"
      ],
      "metadata": {
        "id": "6vBCF3qsZcI-"
      },
      "execution_count": null,
      "outputs": []
    },
    {
      "cell_type": "code",
      "source": [
        "plt.scatter(X,y)"
      ],
      "metadata": {
        "colab": {
          "base_uri": "https://localhost:8080/",
          "height": 282
        },
        "id": "jCZvTxPTZyPC",
        "outputId": "db54a9e6-cace-42be-c4b6-bc9595a8cf90"
      },
      "execution_count": null,
      "outputs": [
        {
          "output_type": "execute_result",
          "data": {
            "text/plain": [
              "<matplotlib.collections.PathCollection at 0x7fbdd023c350>"
            ]
          },
          "metadata": {},
          "execution_count": 14
        },
        {
          "output_type": "display_data",
          "data": {
            "text/plain": [
              "<Figure size 432x288 with 1 Axes>"
            ],
            "image/png": "[encoded data removed]"
          },
          "metadata": {
            "needs_background": "light"
          }
        }
      ]
    },
    {
      "cell_type": "code",
      "source": [
        "from sklearn.preprocessing import PolynomialFeatures\n",
        "poly_features = PolynomialFeatures(degree=2, include_bias=False)\n",
        "X_poly = poly_features.fit_transform(X)\n",
        "X[0]\n",
        "X_poly[0]\n"
      ],
      "metadata": {
        "colab": {
          "base_uri": "https://localhost:8080/"
        },
        "id": "jNKBUbXmbU-G",
        "outputId": "bff60323-bcd7-4197-aa3f-7b50061b0971"
      },
      "execution_count": null,
      "outputs": [
        {
          "output_type": "execute_result",
          "data": {
            "text/plain": [
              "array([-2.43334262,  5.9211563 ])"
            ]
          },
          "metadata": {},
          "execution_count": 15
        }
      ]
    },
    {
      "cell_type": "code",
      "source": [
        "lin_reg = LinearRegression()\n",
        "lin_reg.fit(X_poly, y)\n",
        "lin_reg.intercept_, lin_reg.coef_"
      ],
      "metadata": {
        "colab": {
          "base_uri": "https://localhost:8080/"
        },
        "id": "3GTDzsJxci7F",
        "outputId": "4bb13b37-8fbe-481d-d94e-46212a6f5cb9"
      },
      "execution_count": null,
      "outputs": [
        {
          "output_type": "execute_result",
          "data": {
            "text/plain": [
              "(array([1.8818709]), array([[0.94234687, 0.55190326]]))"
            ]
          },
          "metadata": {},
          "execution_count": 16
        }
      ]
    },
    {
      "cell_type": "markdown",
      "source": [
        "# Cross validation"
      ],
      "metadata": {
        "id": "aFVnHOSLj2Pp"
      }
    },
    {
      "cell_type": "code",
      "source": [
        "from sklearn.metrics import mean_squared_error \n",
        "from sklearn.model_selection import train_test_split\n",
        "def plot_learning_curves(model, X, y): \n",
        "  X_train, X_val, y_train, y_val = train_test_split(X, y, test_size=0.2) \n",
        "  train_errors, val_errors = [], [] \n",
        "  for m in range(1, len(X_train)): \n",
        "    model.fit(X_train[:m], y_train[:m]) \n",
        "    y_train_predict = model.predict(X_train[:m]) \n",
        "    y_val_predict = model.predict(X_val) \n",
        "    train_errors.append(mean_squared_error(y_train[:m], y_train_predict)) \n",
        "    val_errors.append(mean_squared_error(y_val, y_val_predict))\n",
        "  plt.plot(np.sqrt(train_errors), \"r-+\", linewidth=2, label=\"train\") \n",
        "  plt.plot(np.sqrt(val_errors), \"b-\", linewidth=3, label=\"val\")"
      ],
      "metadata": {
        "id": "YI0xja8_c_BH"
      },
      "execution_count": null,
      "outputs": []
    },
    {
      "cell_type": "code",
      "source": [
        "lin_reg = LinearRegression() \n",
        "plot_learning_curves(lin_reg, X, y)"
      ],
      "metadata": {
        "colab": {
          "base_uri": "https://localhost:8080/",
          "height": 265
        },
        "id": "O0lolZL0fayP",
        "outputId": "0941f95a-8466-4d28-e292-042d355e85e0"
      },
      "execution_count": null,
      "outputs": [
        {
          "output_type": "display_data",
          "data": {
            "text/plain": [
              "<Figure size 432x288 with 1 Axes>"
            ],
            "image/png": "[encoded data removed]"
          },
          "metadata": {
            "needs_background": "light"
          }
        }
      ]
    },
    {
      "cell_type": "code",
      "source": [
        "from sklearn.pipeline import Pipeline\n",
        "polynomial_regression = Pipeline([ (\"poly_features\", PolynomialFeatures(degree=5, include_bias=False)), (\"lin_reg\", LinearRegression()),\n",
        "]) \n",
        "plot_learning_curves(polynomial_regression, X, y)"
      ],
      "metadata": {
        "colab": {
          "base_uri": "https://localhost:8080/",
          "height": 265
        },
        "id": "Q4Zs7k13lCKH",
        "outputId": "fbad1091-b3f2-490f-9bd6-8c54e714ee6d"
      },
      "execution_count": null,
      "outputs": [
        {
          "output_type": "display_data",
          "data": {
            "text/plain": [
              "<Figure size 432x288 with 1 Axes>"
            ],
            "image/png": "[encoded data removed]"
          },
          "metadata": {
            "needs_background": "light"
          }
        }
      ]
    },
    {
      "cell_type": "markdown",
      "source": [
        "# Ridge Regression"
      ],
      "metadata": {
        "id": "KuoV1OPyJPwe"
      }
    },
    {
      "cell_type": "code",
      "source": [
        "from sklearn.linear_model import Ridge\n",
        "ridge_reg = Ridge(alpha=1, solver=\"cholesky\")\n",
        "ridge_reg.fit(X, y)\n",
        "ridge_reg.predict([[1.5]])\n"
      ],
      "metadata": {
        "colab": {
          "base_uri": "https://localhost:8080/"
        },
        "id": "CimTU9YqnevP",
        "outputId": "d62b71f5-0940-4129-b692-b16960b71ae5"
      },
      "execution_count": null,
      "outputs": [
        {
          "output_type": "execute_result",
          "data": {
            "text/plain": [
              "array([[5.29475412]])"
            ]
          },
          "metadata": {},
          "execution_count": 21
        }
      ]
    },
    {
      "cell_type": "code",
      "source": [
        "#ridge regression using sgd here penalty=l2 implies it is l2 norm regularized term\n",
        "sgd_reg = SGDRegressor(penalty=\"l2\")\n",
        "sgd_reg.fit(X, y.ravel())\n",
        "sgd_reg.predict([[1.5]])"
      ],
      "metadata": {
        "id": "QD33ThT5oO7h",
        "colab": {
          "base_uri": "https://localhost:8080/"
        },
        "outputId": "5a17d63c-adca-41e4-ee09-9a32c59a6d57"
      },
      "execution_count": null,
      "outputs": [
        {
          "output_type": "execute_result",
          "data": {
            "text/plain": [
              "array([5.27179207])"
            ]
          },
          "metadata": {},
          "execution_count": 25
        }
      ]
    },
    {
      "cell_type": "markdown",
      "source": [
        "# Lasso Regression"
      ],
      "metadata": {
        "id": "ZSzMCMLnRpiY"
      }
    },
    {
      "cell_type": "code",
      "source": [
        "from sklearn.linear_model import Lasso\n",
        "lasso_reg = Lasso(alpha=0.1)\n",
        "lasso_reg.fit(X, y)\n",
        "lasso_reg.predict([[1.5]])"
      ],
      "metadata": {
        "colab": {
          "base_uri": "https://localhost:8080/"
        },
        "id": "XxoXOywnKdT4",
        "outputId": "8588321e-dd1c-4be8-ef8a-6d5dbb3c6846"
      },
      "execution_count": null,
      "outputs": [
        {
          "output_type": "execute_result",
          "data": {
            "text/plain": [
              "array([5.25423662])"
            ]
          },
          "metadata": {},
          "execution_count": 26
        }
      ]
    },
    {
      "cell_type": "markdown",
      "source": [
        "# ElasticNet"
      ],
      "metadata": {
        "id": "mDZACFNZTHvo"
      }
    },
    {
      "cell_type": "code",
      "source": [
        "from sklearn.linear_model import ElasticNet\n",
        "elastic_net = ElasticNet(alpha=0.1, l1_ratio=.5)\n",
        "elastic_net.fit(X, y)\n",
        "elastic_net.predict([[1.5]])"
      ],
      "metadata": {
        "colab": {
          "base_uri": "https://localhost:8080/"
        },
        "id": "6OjheOHYRzsT",
        "outputId": "c3e6d09f-67f0-4d3b-cd50-d4332e1c25f9"
      },
      "execution_count": null,
      "outputs": [
        {
          "output_type": "execute_result",
          "data": {
            "text/plain": [
              "array([5.25426473])"
            ]
          },
          "metadata": {},
          "execution_count": 32
        }
      ]
    },
    {
      "cell_type": "markdown",
      "source": [
        "# Early stopping"
      ],
      "metadata": {
        "id": "C0Pn_aAvUkwn"
      }
    },
    {
      "cell_type": "code",
      "source": [
        "'''from sklearn.base import clone\n",
        "from sklearn.preprocessing import StandardScaler\n",
        "# prepare the data \n",
        "poly_scaler = Pipeline([ (\"poly_features\", PolynomialFeatures(degree=90, include_bias=False)), (\"std_scaler\", StandardScaler())])\n",
        "X_train_poly_scaled = poly_scaler.fit_transform(X_train) \n",
        "X_val_poly_scaled = poly_scaler.transform(X_val)\n",
        "sgd_reg = SGDRegressor(max_iter=1, tol=-np.infty, warm_start=True, penalty=None, learning_rate=\"constant\", eta0=0.0005)\n",
        "minimum_val_error = float(\"inf\") \n",
        "best_epoch = None \n",
        "best_model = None \n",
        "for epoch in range(1000): \n",
        "  sgd_reg.fit(X_train_poly_scaled, y_train) # continues where it left off \n",
        "  y_val_predict = sgd_reg.predict(X_val_poly_scaled) \n",
        "  val_error = mean_squared_error(y_val, y_val_predict) \n",
        "  if val_error < minimum_val_error: \n",
        "    minimum_val_error = val_error \n",
        "    best_epoch = epoch \n",
        "    best_model = clone(sgd_reg)'''"
      ],
      "metadata": {
        "colab": {
          "base_uri": "https://localhost:8080/",
          "height": 142
        },
        "id": "STTw42ueTQi2",
        "outputId": "c7f1c0c8-ac8c-4167-f7c4-dee36389260f"
      },
      "execution_count": null,
      "outputs": [
        {
          "output_type": "execute_result",
          "data": {
            "text/plain": [
              "'from sklearn.base import clone\\nfrom sklearn.preprocessing import StandardScaler\\n# prepare the data \\npoly_scaler = Pipeline([ (\"poly_features\", PolynomialFeatures(degree=90, include_bias=False)), (\"std_scaler\", StandardScaler())])\\nX_train_poly_scaled = poly_scaler.fit_transform(X_train) \\nX_val_poly_scaled = poly_scaler.transform(X_val)\\nsgd_reg = SGDRegressor(max_iter=1, tol=-np.infty, warm_start=True, penalty=None, learning_rate=\"constant\", eta0=0.0005)\\nminimum_val_error = float(\"inf\") \\nbest_epoch = None \\nbest_model = None \\nfor epoch in range(1000): \\n  sgd_reg.fit(X_train_poly_scaled, y_train) # continues where it left off \\n  y_val_predict = sgd_reg.predict(X_val_poly_scaled) \\n  val_error = mean_squared_error(y_val, y_val_predict) \\n  if val_error < minimum_val_error: \\n    minimum_val_error = val_error \\n    best_epoch = epoch \\n    best_model = clone(sgd_reg)'"
            ],
            "application/vnd.google.colaboratory.intrinsic+json": {
              "type": "string"
            }
          },
          "metadata": {},
          "execution_count": 35
        }
      ]
    },
    {
      "cell_type": "code",
      "source": [],
      "metadata": {
        "id": "lq2gUFMqYDzf"
      },
      "execution_count": null,
      "outputs": []
    }
  ]
}